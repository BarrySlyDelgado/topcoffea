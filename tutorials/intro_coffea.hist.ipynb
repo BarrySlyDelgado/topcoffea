{
 "cells": [
  {
   "cell_type": "markdown",
   "metadata": {
    "slideshow": {
     "slide_type": "slide"
    }
   },
   "source": [
    "# Intro to coffea.hist"
   ]
  },
  {
   "cell_type": "markdown",
   "metadata": {},
   "source": [
    "A histogram in Coffea is a `N-D` collection of different categories, along with bin(s)"
   ]
  },
  {
   "cell_type": "markdown",
   "metadata": {},
   "source": [
    "Let's start by importing some necessary libraries"
   ]
  },
  {
   "cell_type": "code",
   "execution_count": 1,
   "metadata": {
    "slideshow": {
     "slide_type": "subslide"
    }
   },
   "outputs": [],
   "source": [
    "from coffea import hist\n",
    "import matplotlib.pyplot as plt #plot histograms\n",
    "import numpy as np"
   ]
  },
  {
   "cell_type": "markdown",
   "metadata": {},
   "source": [
    "Simple example from the Coffea manual"
   ]
  },
  {
   "cell_type": "code",
   "execution_count": 2,
   "metadata": {},
   "outputs": [],
   "source": [
    "h = hist.Hist(\"Observed bird count\",\n",
    "               hist.Cat(\"species\", \"Bird species\"),\n",
    "               hist.Bin(\"x\", \"x coordinate [m]\", 20, -5, 5),\n",
    "               hist.Bin(\"y\", \"y coordinate [m]\", 20, -5, 5),\n",
    "             )"
   ]
  },
  {
   "cell_type": "markdown",
   "metadata": {},
   "source": [
    "Now we'ss use `fill()` to add 10 `ducks`, with random `x-y` values using `numpy.random`, each with a weight of 3"
   ]
  },
  {
   "cell_type": "code",
   "execution_count": 3,
   "metadata": {},
   "outputs": [],
   "source": [
    "h.fill(species='ducks', x=np.random.normal(size=10), y=np.random.normal(size=10), weight=np.ones(10) * 3)"
   ]
  },
  {
   "cell_type": "markdown",
   "metadata": {},
   "source": [
    "Now I'll add another species"
   ]
  },
  {
   "cell_type": "code",
   "execution_count": 4,
   "metadata": {},
   "outputs": [],
   "source": [
    "h.fill(species='phoenix', x=np.random.normal(size=1), y=np.random.normal(size=1), weight=np.ones(1))"
   ]
  },
  {
   "cell_type": "markdown",
   "metadata": {},
   "source": [
    "Let's create a plot to draw everthing in using matplotlib and the `plot2d()` method in `coffea.hist`"
   ]
  },
  {
   "cell_type": "code",
   "execution_count": 5,
   "metadata": {},
   "outputs": [
    {
     "data": {
      "text/plain": [
       "<Hist (x,y) instance at 0x7fe02c1d4100>"
      ]
     },
     "execution_count": 5,
     "metadata": {},
     "output_type": "execute_result"
    }
   ],
   "source": [
    "h.integrate('species')"
   ]
  },
  {
   "cell_type": "code",
   "execution_count": 6,
   "metadata": {
    "slideshow": {
     "slide_type": "slide"
    }
   },
   "outputs": [
    {
     "data": {
      "text/plain": [
       "<AxesSubplot:xlabel='x coordinate [m]', ylabel='y coordinate [m]'>"
      ]
     },
     "execution_count": 6,
     "metadata": {},
     "output_type": "execute_result"
    },
    {
     "data": {
      "image/png": "[encoded data removed]",
      "text/plain": [
       "<Figure size 432x288 with 2 Axes>"
      ]
     },
     "metadata": {
      "needs_background": "light"
     },
     "output_type": "display_data"
    }
   ],
   "source": [
    "hist.plot2d(h.integrate('species'), xaxis='x')"
   ]
  },
  {
   "cell_type": "markdown",
   "metadata": {},
   "source": [
    "Now we can play with the axes to learn some more<br>\n",
    "We can view the axes with `h.axes()`"
   ]
  },
  {
   "cell_type": "code",
   "execution_count": 7,
   "metadata": {},
   "outputs": [
    {
     "data": {
      "text/plain": [
       "(<Cat (name=species) instance at 0x7fdefbd1a1f0>,\n",
       " <Bin (name=x) instance at 0x7fdefbd1a250>,\n",
       " <Bin (name=y) instance at 0x7fdefbd1a2b0>)"
      ]
     },
     "execution_count": 7,
     "metadata": {},
     "output_type": "execute_result"
    }
   ],
   "source": [
    "h.axes()"
   ]
  },
  {
   "cell_type": "markdown",
   "metadata": {},
   "source": [
    "We can remove the `x`-axis by integrating it out with `integrate()`"
   ]
  },
  {
   "cell_type": "code",
   "execution_count": 8,
   "metadata": {},
   "outputs": [
    {
     "data": {
      "text/plain": [
       "<Hist (y) instance at 0x7fdef9b3df70>"
      ]
     },
     "execution_count": 8,
     "metadata": {},
     "output_type": "execute_result"
    }
   ],
   "source": [
    "h.integrate('x').integrate('species')"
   ]
  },
  {
   "cell_type": "markdown",
   "metadata": {},
   "source": [
    "And now we can make a `1D` plot, in this case of `species` and `y coordinate`"
   ]
  },
  {
   "cell_type": "code",
   "execution_count": 9,
   "metadata": {},
   "outputs": [
    {
     "data": {
      "text/plain": [
       "<AxesSubplot:xlabel='y coordinate [m]', ylabel='Observed bird count'>"
      ]
     },
     "execution_count": 9,
     "metadata": {},
     "output_type": "execute_result"
    },
    {
     "data": {
      "image/png": "[encoded data removed]",
      "text/plain": [
       "<Figure size 432x288 with 1 Axes>"
      ]
     },
     "metadata": {
      "needs_background": "light"
     },
     "output_type": "display_data"
    }
   ],
   "source": [
    "hist.plot1d(h.integrate('x'), stack=True) #stack makes a stack plot"
   ]
  },
  {
   "cell_type": "markdown",
   "metadata": {},
   "source": [
    "## A more pratical, physics example"
   ]
  },
  {
   "cell_type": "markdown",
   "metadata": {
    "slideshow": {
     "slide_type": "subslide"
    }
   },
   "source": [
    "In this example, I'll load a set of histograms from `histos/ttH_private_UL17_fixWeights_objects.pkl.gz`<br>\n",
    "This is a pickle file created by TopCoffea"
   ]
  },
  {
   "cell_type": "markdown",
   "metadata": {
    "slideshow": {
     "slide_type": "slide"
    }
   },
   "source": [
    "First, let's import all the relevent packages (same as before, but here to make this section stand alone)"
   ]
  },
  {
   "cell_type": "code",
   "execution_count": 10,
   "metadata": {
    "slideshow": {
     "slide_type": "subslide"
    }
   },
   "outputs": [],
   "source": [
    "import pickle #read pickle file\n",
    "from coffea import hist\n",
    "import topcoffea.modules.HistEFT as HistEFT\n",
    "import gzip #read zipped pickle file\n",
    "import matplotlib.pyplot as plt #plot histograms\n",
    "import numpy as np"
   ]
  },
  {
   "cell_type": "markdown",
   "metadata": {
    "slideshow": {
     "slide_type": "slide"
    }
   },
   "source": [
    "Next, we'll open the pickle file, and load its histograms into a dictionary"
   ]
  },
  {
   "cell_type": "code",
   "execution_count": 11,
   "metadata": {
    "slideshow": {
     "slide_type": "subslide"
    }
   },
   "outputs": [
    {
     "name": "stdout",
     "output_type": "stream",
     "text": [
      "/bin/bash: /opt/conda/lib/libtinfo.so.6: no version information available (required by /bin/bash)\n",
      "/bin/bash: /opt/conda/lib/libtinfo.so.6: no version information available (required by /bin/bash)\n",
      "--2021-06-16 16:03:11--  https://cernbox.cern.ch/index.php/s/JxAIaZhXZo4mGkg/download\n",
      "Resolving cernbox.cern.ch (cernbox.cern.ch)... 128.142.32.38, 188.184.97.72, 128.142.53.35, ...\n",
      "Connecting to cernbox.cern.ch (cernbox.cern.ch)|128.142.32.38|:443... connected.\n",
      "HTTP request sent, awaiting response... 200 OK\n",
      "Length: 64307305 (61M) [application/gzip]\n",
      "Saving to: ‘../histos/ttH_private_UL17_fixWeights_objects.pkl.gz’\n",
      "\n",
      "../histos/ttH_priva 100%[===================>]  61.33M  16.7MB/s    in 3.7s    \n",
      "\n",
      "Last-modified header invalid -- time-stamp ignored.\n",
      "2021-06-16 16:03:16 (16.7 MB/s) - ‘../histos/ttH_private_UL17_fixWeights_objects.pkl.gz’ saved [64307305/64307305]\n",
      "\n"
     ]
    }
   ],
   "source": [
    "#This only works in Jupyter notebooks. Run the wget command directly in the terminal otherwise\n",
    "!mkdir -p ../histos/\n",
    "!wget -nc https://cernbox.cern.ch/index.php/s/JxAIaZhXZo4mGkg/download -O ../histos/ttH_private_UL17_fixWeights_objects.pkl.gz\n",
    "fin = '../histos/ttH_private_UL17_fixWeights_objects.pkl.gz'\n",
    "hists = {} #dictionary of histograms\n",
    "with gzip.open(fin) as fin:\n",
    "  hin = pickle.load(fin)\n",
    "  for k in hin.keys():\n",
    "    if k in hists: hists[k]+=hin[k]\n",
    "    else:               hists[k]=hin[k]"
   ]
  },
  {
   "cell_type": "markdown",
   "metadata": {
    "slideshow": {
     "slide_type": "slide"
    }
   },
   "source": [
    "Now we'll grab the histogram for `njets`"
   ]
  },
  {
   "cell_type": "code",
   "execution_count": 12,
   "metadata": {
    "slideshow": {
     "slide_type": "subslide"
    }
   },
   "outputs": [],
   "source": [
    "h = hists['njets'] #load histogram of njets distribution"
   ]
  },
  {
   "cell_type": "markdown",
   "metadata": {
    "slideshow": {
     "slide_type": "slide"
    }
   },
   "source": [
    "Each histogram is a `N-D` collection of different categories"
   ]
  },
  {
   "cell_type": "code",
   "execution_count": 13,
   "metadata": {
    "slideshow": {
     "slide_type": "subslide"
    }
   },
   "outputs": [
    {
     "data": {
      "text/plain": [
       "(<Cat (name=sample) instance at 0x7fe014a09640>,\n",
       " <Cat (name=channel) instance at 0x7fe014a09700>,\n",
       " <Cat (name=cut) instance at 0x7fe014a09e20>,\n",
       " <Cat (name=sumcharge) instance at 0x7fe014a180a0>,\n",
       " <Cat (name=systematic) instance at 0x7fe014a181f0>,\n",
       " <Bin (name=njets) instance at 0x7fe014a182b0>)"
      ]
     },
     "execution_count": 13,
     "metadata": {},
     "output_type": "execute_result"
    }
   ],
   "source": [
    "h.axes() #all axes in this version"
   ]
  },
  {
   "cell_type": "markdown",
   "metadata": {
    "slideshow": {
     "slide_type": "slide"
    }
   },
   "source": [
    "You can retrieve the histogram's bin contents with the `values()` method"
   ]
  },
  {
   "cell_type": "code",
   "execution_count": 14,
   "metadata": {
    "slideshow": {
     "slide_type": "subslide"
    }
   },
   "outputs": [
    {
     "name": "stdout",
     "output_type": "stream",
     "text": [
      "('ttHJet_privateUL17', 'eeSSonZ', 'base', 'ch+', 'nominal') ...\n"
     ]
    }
   ],
   "source": [
    "h.values() #this is large, and Jupyter wants to show the whole thing\n",
    "print(list(h.values())[0],'...') #just print the first entry"
   ]
  },
  {
   "cell_type": "markdown",
   "metadata": {
    "slideshow": {
     "slide_type": "slide"
    }
   },
   "source": [
    "To select a specific label in a category we must use `integrate()` (the other option is `sum()` which combines all the lables in a category together)"
   ]
  },
  {
   "cell_type": "code",
   "execution_count": 15,
   "metadata": {
    "slideshow": {
     "slide_type": "-"
    }
   },
   "outputs": [],
   "source": [
    "ch3l = ['eemSSonZ', 'eemSSoffZ', 'mmeSSonZ', 'mmeSSoffZ','eeeSSonZ', 'eeeSSoffZ', 'mmmSSonZ', 'mmmSSoffZ'] #define ch3l to make things cleaner\n",
    "h = h.integrate('cut','base').integrate('channel',ch3l).integrate('sumcharge', 'ch+').integrate('systematic', 'nominal')"
   ]
  },
  {
   "cell_type": "markdown",
   "metadata": {
    "slideshow": {
     "slide_type": "slide"
    }
   },
   "source": [
    "We've now integrated outeverything but the type of samples:"
   ]
  },
  {
   "cell_type": "code",
   "execution_count": 16,
   "metadata": {},
   "outputs": [
    {
     "data": {
      "text/plain": [
       "{('ttHJet_privateUL17',): array([0.07281313, 0.60113587, 1.78300836, 2.35064192, 1.73882553,\n",
       "        0.98864291, 0.40450678, 0.12870998, 0.02832856, 0.00800146])}"
      ]
     },
     "execution_count": 16,
     "metadata": {},
     "output_type": "execute_result"
    }
   ],
   "source": [
    "h.values()"
   ]
  },
  {
   "cell_type": "code",
   "execution_count": 17,
   "metadata": {},
   "outputs": [
    {
     "data": {
      "text/plain": [
       "(<Cat (name=sample) instance at 0x7fe014a09640>,\n",
       " <Bin (name=njets) instance at 0x7fe014a182b0>)"
      ]
     },
     "execution_count": 17,
     "metadata": {},
     "output_type": "execute_result"
    }
   ],
   "source": [
    "h.axes()"
   ]
  },
  {
   "cell_type": "markdown",
   "metadata": {},
   "source": [
    "Let's create a plot to draw everthing in using matplotlib and the `plot1d()` method in `coffea.hist`"
   ]
  },
  {
   "cell_type": "code",
   "execution_count": 18,
   "metadata": {
    "slideshow": {
     "slide_type": "slide"
    }
   },
   "outputs": [
    {
     "data": {
      "text/plain": [
       "<AxesSubplot:xlabel='Jet multiplicity ', ylabel='Events'>"
      ]
     },
     "execution_count": 18,
     "metadata": {},
     "output_type": "execute_result"
    },
    {
     "data": {
      "image/png": "[encoded data removed]",
      "text/plain": [
       "<Figure size 504x504 with 1 Axes>"
      ]
     },
     "metadata": {
      "needs_background": "light"
     },
     "output_type": "display_data"
    }
   ],
   "source": [
    "fig, ax = plt.subplots(1,1, figsize=(7,7)) #create an axis for plotting\n",
    "hist.plot1d(h, stack=True)\n",
    "#fig.show() #not needed in Jupyter, but this draws the figure in the terminal"
   ]
  },
  {
   "cell_type": "markdown",
   "metadata": {
    "slideshow": {
     "slide_type": "slide"
    }
   },
   "source": [
    "# topcoffea.modules.HistEFT"
   ]
  },
  {
   "cell_type": "markdown",
   "metadata": {
    "slideshow": {
     "slide_type": "subslide"
    }
   },
   "source": [
    "I'll continue using the ```histos/plotsTopEFT.pkl.gz``` file from above<br>\n",
    "Now we'll use methods that are unique to HistEFT (e.g. `set_wilson_coefficients()` to scale the Wilson Coefficient (WC) values)"
   ]
  },
  {
   "cell_type": "markdown",
   "metadata": {
    "slideshow": {
     "slide_type": "subslide"
    }
   },
   "source": [
    "The `HistEFT` class holds the structure constants ($S_0, S_{1j}, S_{2j},$ and $S_{3jk}$) we solved for when partins the EFT files, <br>\n",
    "so the event yields are just a function of the WCs ($\\vec{c}$):"
   ]
  },
  {
   "cell_type": "markdown",
   "metadata": {},
   "source": [
    "\\begin{equation}\n",
    "N\\left(\\dfrac{\\vec{c}}{\\Lambda^2}\\right) = S_0 + \\sum_j S_{1j} \\frac{c_j}{\\Lambda^2} + \\sum_j S_{2j} \\frac{c_j^2}{\\Lambda^4} + \\sum_{j,k} S_{3jk} \\frac{c_j}{\\Lambda^2} \\frac{c_k}{\\Lambda^2}\n",
    "\\end{equation}"
   ]
  },
  {
   "cell_type": "markdown",
   "metadata": {
    "slideshow": {
     "slide_type": "slide"
    }
   },
   "source": [
    "First, we'll scale the histogram to the SM (all `WCs=0`)"
   ]
  },
  {
   "cell_type": "code",
   "execution_count": 19,
   "metadata": {
    "slideshow": {
     "slide_type": "subslide"
    }
   },
   "outputs": [],
   "source": [
    "h.set_wilson_coefficients(np.zeros(h._nwc))"
   ]
  },
  {
   "cell_type": "markdown",
   "metadata": {
    "slideshow": {
     "slide_type": "subslide"
    }
   },
   "source": [
    "where `_nwc` is a local variable inside a HistEFT that stores how many WCs it contains<br>\n",
    "The WCs are used whenever `values()` method is called"
   ]
  },
  {
   "cell_type": "code",
   "execution_count": 20,
   "metadata": {},
   "outputs": [
    {
     "data": {
      "text/plain": [
       "{('ttHJet_privateUL17',): array([0.07281313, 0.60113587, 1.78300836, 2.35064192, 1.73882553,\n",
       "        0.98864291, 0.40450678, 0.12870998, 0.02832856, 0.00800146])}"
      ]
     },
     "execution_count": 20,
     "metadata": {},
     "output_type": "execute_result"
    }
   ],
   "source": [
    "h.values()"
   ]
  },
  {
   "cell_type": "markdown",
   "metadata": {
    "slideshow": {
     "slide_type": "slide"
    }
   },
   "source": [
    "Plotting this should look the same as before, since by default the WCs are 0"
   ]
  },
  {
   "cell_type": "code",
   "execution_count": 21,
   "metadata": {
    "slideshow": {
     "slide_type": "subslide"
    }
   },
   "outputs": [
    {
     "data": {
      "text/plain": [
       "<AxesSubplot:xlabel='Jet multiplicity ', ylabel='Events'>"
      ]
     },
     "execution_count": 21,
     "metadata": {},
     "output_type": "execute_result"
    },
    {
     "data": {
      "image/png": "[encoded data removed]",
      "text/plain": [
       "<Figure size 432x288 with 1 Axes>"
      ]
     },
     "metadata": {
      "needs_background": "light"
     },
     "output_type": "display_data"
    }
   ],
   "source": [
    "hist.plot1d(h, stack=True)"
   ]
  },
  {
   "cell_type": "markdown",
   "metadata": {
    "slideshow": {
     "slide_type": "slide"
    }
   },
   "source": [
    "Now let's set them all to 1 to see that things change"
   ]
  },
  {
   "cell_type": "code",
   "execution_count": 22,
   "metadata": {},
   "outputs": [],
   "source": [
    "h.set_wilson_coefficients(np.ones(h._nwc))"
   ]
  },
  {
   "cell_type": "code",
   "execution_count": 23,
   "metadata": {},
   "outputs": [
    {
     "data": {
      "text/plain": [
       "{('ttHJet_privateUL17',): array([ 0.28840513,  3.14251926,  8.48740069, 11.90790139,  9.58551669,\n",
       "         5.25475153,  2.16472929,  1.33508699,  0.24890812,  0.03036111])}"
      ]
     },
     "execution_count": 23,
     "metadata": {},
     "output_type": "execute_result"
    }
   ],
   "source": [
    "h.values()"
   ]
  },
  {
   "cell_type": "code",
   "execution_count": 24,
   "metadata": {
    "slideshow": {
     "slide_type": "subslide"
    },
    "tags": []
   },
   "outputs": [
    {
     "data": {
      "text/plain": [
       "<AxesSubplot:xlabel='Jet multiplicity ', ylabel='Events'>"
      ]
     },
     "execution_count": 24,
     "metadata": {},
     "output_type": "execute_result"
    },
    {
     "data": {
      "image/png": "[encoded data removed]",
      "text/plain": [
       "<Figure size 432x288 with 1 Axes>"
      ]
     },
     "metadata": {
      "needs_background": "light"
     },
     "output_type": "display_data"
    }
   ],
   "source": [
    "hist.plot1d(h, stack=True)"
   ]
  },
  {
   "cell_type": "markdown",
   "metadata": {
    "slideshow": {
     "slide_type": "slide"
    },
    "tags": []
   },
   "source": [
    "There's one last thing we must due in order to produce the predicted event yields.<br>\n",
    "The EFT samples come normalized to $\\sigma * w_{\\mathrm{gen}}$<br>\n",
    "In order to produce event yeilds, we must scale them by $\\frac{\\mathcal{L}}{\\sum{w_{\\mathrm{event}}^{\\mathrm{SM}}}}$ , where $\\sum{w_{\\mathrm{event}}^{\\mathrm{SM}}}$ is the sum of the event weights, evaluated at the SM."
   ]
  },
  {
   "cell_type": "markdown",
   "metadata": {},
   "source": [
    "First, load the `SumOfEFTweights` histogram"
   ]
  },
  {
   "cell_type": "code",
   "execution_count": 25,
   "metadata": {},
   "outputs": [],
   "source": [
    "sow = hists['SumOfEFTweights'] #get histogram with sum of EFT weights"
   ]
  },
  {
   "cell_type": "markdown",
   "metadata": {},
   "source": [
    "Next, set the WCs to the SM values of 0"
   ]
  },
  {
   "cell_type": "code",
   "execution_count": 26,
   "metadata": {},
   "outputs": [],
   "source": [
    "sow.set_wilson_coefficients(np.zeros(sow._nwc)) #set to SM"
   ]
  },
  {
   "cell_type": "markdown",
   "metadata": {},
   "source": [
    "Now sum over all the samples"
   ]
  },
  {
   "cell_type": "code",
   "execution_count": 27,
   "metadata": {
    "scrolled": true
   },
   "outputs": [],
   "source": [
    "sow = sow.sum('sample')"
   ]
  },
  {
   "cell_type": "markdown",
   "metadata": {},
   "source": [
    "Finally, get the stored value"
   ]
  },
  {
   "cell_type": "code",
   "execution_count": 28,
   "metadata": {},
   "outputs": [
    {
     "name": "stdout",
     "output_type": "stream",
     "text": [
      "Sum of EFT weights 39430.66101814883\n"
     ]
    }
   ],
   "source": [
    "smsow = sow.values()[()][0]\n",
    "print('Sum of EFT weights', smsow)"
   ]
  },
  {
   "cell_type": "markdown",
   "metadata": {},
   "source": [
    "Now we can scale the desired histogram by $\\frac{\\mathcal{L}}{\\sum{w_{\\mathrm{event}}^{\\mathrm{SM}}}}$"
   ]
  },
  {
   "cell_type": "code",
   "execution_count": 29,
   "metadata": {},
   "outputs": [
    {
     "name": "stdout",
     "output_type": "stream",
     "text": [
      "Scaling by 1.5140501949110556\n"
     ]
    }
   ],
   "source": [
    "h.set_wilson_coefficients(np.zeros(h._nwc))\n",
    "wgt = 1000*59.7/smsow\n",
    "print('Scaling by', wgt)\n",
    "h.scale(wgt) #2018 lumi of 59.7 fb^-1"
   ]
  },
  {
   "cell_type": "code",
   "execution_count": 30,
   "metadata": {
    "slideshow": {
     "slide_type": "subslide"
    }
   },
   "outputs": [
    {
     "data": {
      "text/plain": [
       "<AxesSubplot:xlabel='Jet multiplicity ', ylabel='Events'>"
      ]
     },
     "execution_count": 30,
     "metadata": {},
     "output_type": "execute_result"
    },
    {
     "data": {
      "image/png": "[encoded data removed]",
      "text/plain": [
       "<Figure size 432x288 with 1 Axes>"
      ]
     },
     "metadata": {
      "needs_background": "light"
     },
     "output_type": "display_data"
    }
   ],
   "source": [
    "hist.plot1d(h, stack=True)"
   ]
  }
 ],
 "metadata": {
  "kernelspec": {
   "display_name": "Python 3",
   "language": "python",
   "name": "python3"
  },
  "language_info": {
   "codemirror_mode": {
    "name": "ipython",
    "version": 3
   },
   "file_extension": ".py",
   "mimetype": "text/x-python",
   "name": "python",
   "nbconvert_exporter": "python",
   "pygments_lexer": "ipython3",
   "version": "3.8.8"
  }
 },
 "nbformat": 4,
 "nbformat_minor": 4
}
